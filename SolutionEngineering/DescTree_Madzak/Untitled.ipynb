{
 "cells": [
  {
   "cell_type": "markdown",
   "metadata": {},
   "source": [
    "Check...\n",
    "   - if the import is working properly\n",
    "       \n",
    "       yes\n",
    "       \n",
    "   - if the preprocessing (handling missings, scaling, ...) and feature selection is done properly\n",
    "   - if the model training and validation is realized according to the instructions (keep in mind the special requirements, such as k-fold or MC cross-validation or the calculation of specific metrics)\n",
    "   - if you can reproduce the results    Check...\n"
   ]
  },
  {
   "cell_type": "markdown",
   "metadata": {},
   "source": [
    "## Test Set 1 "
   ]
  },
  {
   "cell_type": "markdown",
   "metadata": {},
   "source": [
    "### Transformation/Preprocessing wie oben"
   ]
  },
  {
   "cell_type": "code",
   "execution_count": 206,
   "metadata": {},
   "outputs": [],
   "source": [
    "test1 = pd.read_csv(\"data2_timeseries_occupancy_test.txt\",delimiter=\",\")\n",
    "test1.date = test1.date.apply(lambda x :datetime.strptime(x, \"%Y-%m-%d %H:%M:%S\").time() )\n",
    "test1=test1.sort_values(by=\"date\")\n",
    "test1[['Temperature',\"Humidity\",\"Light\",\"CO2\",\"HumidityRatio\"]] = StandardScaler().fit_transform(test1[['Temperature',\"Humidity\",\"Light\",\"CO2\",\"HumidityRatio\"]])\n",
    "test1[\"TemperatureMA\"]=test1.Temperature.rolling(5,min_periods=1).mean()\n",
    "test1[\"HumidityMA\"]=test1.Humidity.rolling(5,min_periods=1).mean()\n",
    "test1[\"LightMA\"]=test1.Light.rolling(5,min_periods=1).mean()\n",
    "test1[\"CO2MA\"]=test1.CO2.rolling(5,min_periods=1).mean()\n",
    "test1[\"HumidityRatioMA\"]=test1.HumidityRatio.rolling(5,min_periods=1).mean()\n",
    "\n",
    "test1[\"TemperatureStdev\"]=test1.Temperature.rolling(5,min_periods=1).std()\n",
    "test1[\"HumidityStdev\"]=test1.Humidity.rolling(5,min_periods=1).std()\n",
    "test1[\"LightStdev\"]=test1.Light.rolling(5,min_periods=1).std()\n",
    "test1[\"CO2Stdev\"]=test1.CO2.rolling(5,min_periods=1).std()\n",
    "test1[\"HumidityRatioStdev\"]=test1.HumidityRatio.rolling(5,min_periods=1).std()\n",
    "\n",
    "test1.date = test1.date.apply(lambda x :(datetime.combine(date.min, x)-datetime.min).total_seconds())\n",
    "test1=test1.dropna()\n"
   ]
  },
  {
   "cell_type": "code",
   "execution_count": 207,
   "metadata": {},
   "outputs": [
    {
     "data": {
      "text/html": [
       "<div>\n",
       "<style scoped>\n",
       "    .dataframe tbody tr th:only-of-type {\n",
       "        vertical-align: middle;\n",
       "    }\n",
       "\n",
       "    .dataframe tbody tr th {\n",
       "        vertical-align: top;\n",
       "    }\n",
       "\n",
       "    .dataframe thead th {\n",
       "        text-align: right;\n",
       "    }\n",
       "</style>\n",
       "<table border=\"1\" class=\"dataframe\">\n",
       "  <thead>\n",
       "    <tr style=\"text-align: right;\">\n",
       "      <th></th>\n",
       "      <th>date</th>\n",
       "      <th>Temperature</th>\n",
       "      <th>Humidity</th>\n",
       "      <th>Light</th>\n",
       "      <th>CO2</th>\n",
       "      <th>HumidityRatio</th>\n",
       "      <th>Occupancy</th>\n",
       "      <th>TemperatureMA</th>\n",
       "      <th>HumidityMA</th>\n",
       "      <th>LightMA</th>\n",
       "      <th>CO2MA</th>\n",
       "      <th>HumidityRatioMA</th>\n",
       "      <th>TemperatureStdev</th>\n",
       "      <th>HumidityStdev</th>\n",
       "      <th>LightStdev</th>\n",
       "      <th>CO2Stdev</th>\n",
       "      <th>HumidityRatioStdev</th>\n",
       "    </tr>\n",
       "  </thead>\n",
       "  <tbody>\n",
       "    <tr>\n",
       "      <th>3433</th>\n",
       "      <td>0.0</td>\n",
       "      <td>-0.883532</td>\n",
       "      <td>0.935600</td>\n",
       "      <td>-0.591074</td>\n",
       "      <td>-0.833863</td>\n",
       "      <td>0.568118</td>\n",
       "      <td>0</td>\n",
       "      <td>-0.496520</td>\n",
       "      <td>0.411267</td>\n",
       "      <td>-0.591074</td>\n",
       "      <td>0.337535</td>\n",
       "      <td>0.198851</td>\n",
       "      <td>0.547317</td>\n",
       "      <td>0.741519</td>\n",
       "      <td>0.0</td>\n",
       "      <td>1.656607</td>\n",
       "      <td>0.522221</td>\n",
       "    </tr>\n",
       "    <tr>\n",
       "      <th>553</th>\n",
       "      <td>0.0</td>\n",
       "      <td>-0.393643</td>\n",
       "      <td>-0.820188</td>\n",
       "      <td>-0.591074</td>\n",
       "      <td>-0.825448</td>\n",
       "      <td>-1.116382</td>\n",
       "      <td>0</td>\n",
       "      <td>-0.462228</td>\n",
       "      <td>0.000782</td>\n",
       "      <td>-0.591074</td>\n",
       "      <td>-0.050126</td>\n",
       "      <td>-0.239560</td>\n",
       "      <td>0.391543</td>\n",
       "      <td>0.883413</td>\n",
       "      <td>0.0</td>\n",
       "      <td>1.350191</td>\n",
       "      <td>0.844376</td>\n",
       "    </tr>\n",
       "    <tr>\n",
       "      <th>6313</th>\n",
       "      <td>0.0</td>\n",
       "      <td>-0.726767</td>\n",
       "      <td>-0.108428</td>\n",
       "      <td>-0.591074</td>\n",
       "      <td>-0.060224</td>\n",
       "      <td>-0.490397</td>\n",
       "      <td>0</td>\n",
       "      <td>-0.528363</td>\n",
       "      <td>-0.026521</td>\n",
       "      <td>-0.591074</td>\n",
       "      <td>-0.052651</td>\n",
       "      <td>-0.302269</td>\n",
       "      <td>0.345976</td>\n",
       "      <td>0.723368</td>\n",
       "      <td>0.0</td>\n",
       "      <td>1.102438</td>\n",
       "      <td>0.700745</td>\n",
       "    </tr>\n",
       "    <tr>\n",
       "      <th>7753</th>\n",
       "      <td>0.0</td>\n",
       "      <td>-0.785554</td>\n",
       "      <td>0.126014</td>\n",
       "      <td>-0.591074</td>\n",
       "      <td>-0.132034</td>\n",
       "      <td>-0.263529</td>\n",
       "      <td>0</td>\n",
       "      <td>-0.579801</td>\n",
       "      <td>0.003986</td>\n",
       "      <td>-0.591074</td>\n",
       "      <td>-0.068527</td>\n",
       "      <td>-0.294521</td>\n",
       "      <td>0.320942</td>\n",
       "      <td>0.630158</td>\n",
       "      <td>0.0</td>\n",
       "      <td>0.955399</td>\n",
       "      <td>0.607110</td>\n",
       "    </tr>\n",
       "    <tr>\n",
       "      <th>4873</th>\n",
       "      <td>0.0</td>\n",
       "      <td>-1.089285</td>\n",
       "      <td>1.480805</td>\n",
       "      <td>-0.591074</td>\n",
       "      <td>-0.732881</td>\n",
       "      <td>1.036187</td>\n",
       "      <td>0</td>\n",
       "      <td>-0.775756</td>\n",
       "      <td>0.322761</td>\n",
       "      <td>-0.591074</td>\n",
       "      <td>-0.516890</td>\n",
       "      <td>-0.053200</td>\n",
       "      <td>0.254176</td>\n",
       "      <td>0.901055</td>\n",
       "      <td>0.0</td>\n",
       "      <td>0.386972</td>\n",
       "      <td>0.857108</td>\n",
       "    </tr>\n",
       "  </tbody>\n",
       "</table>\n",
       "</div>"
      ],
      "text/plain": [
       "      date  Temperature  Humidity     Light       CO2  HumidityRatio  \\\n",
       "3433   0.0    -0.883532  0.935600 -0.591074 -0.833863       0.568118   \n",
       "553    0.0    -0.393643 -0.820188 -0.591074 -0.825448      -1.116382   \n",
       "6313   0.0    -0.726767 -0.108428 -0.591074 -0.060224      -0.490397   \n",
       "7753   0.0    -0.785554  0.126014 -0.591074 -0.132034      -0.263529   \n",
       "4873   0.0    -1.089285  1.480805 -0.591074 -0.732881       1.036187   \n",
       "\n",
       "      Occupancy  TemperatureMA  HumidityMA   LightMA     CO2MA  \\\n",
       "3433          0      -0.496520    0.411267 -0.591074  0.337535   \n",
       "553           0      -0.462228    0.000782 -0.591074 -0.050126   \n",
       "6313          0      -0.528363   -0.026521 -0.591074 -0.052651   \n",
       "7753          0      -0.579801    0.003986 -0.591074 -0.068527   \n",
       "4873          0      -0.775756    0.322761 -0.591074 -0.516890   \n",
       "\n",
       "      HumidityRatioMA  TemperatureStdev  HumidityStdev  LightStdev  CO2Stdev  \\\n",
       "3433         0.198851          0.547317       0.741519         0.0  1.656607   \n",
       "553         -0.239560          0.391543       0.883413         0.0  1.350191   \n",
       "6313        -0.302269          0.345976       0.723368         0.0  1.102438   \n",
       "7753        -0.294521          0.320942       0.630158         0.0  0.955399   \n",
       "4873        -0.053200          0.254176       0.901055         0.0  0.386972   \n",
       "\n",
       "      HumidityRatioStdev  \n",
       "3433            0.522221  \n",
       "553             0.844376  \n",
       "6313            0.700745  \n",
       "7753            0.607110  \n",
       "4873            0.857108  "
      ]
     },
     "execution_count": 207,
     "metadata": {},
     "output_type": "execute_result"
    }
   ],
   "source": [
    "test1.head()"
   ]
  },
  {
   "cell_type": "markdown",
   "metadata": {},
   "source": [
    "### Accuracy"
   ]
  },
  {
   "cell_type": "code",
   "execution_count": 208,
   "metadata": {},
   "outputs": [
    {
     "data": {
      "text/plain": [
       "0.9491334222131064"
      ]
     },
     "execution_count": 208,
     "metadata": {},
     "output_type": "execute_result"
    }
   ],
   "source": [
    "accuracy_score(test1.Occupancy, clf.predict(test1.drop(\"Occupancy\",axis=1))) "
   ]
  }
 ],
 "metadata": {
  "kernelspec": {
   "display_name": "Python 3",
   "language": "python",
   "name": "python3"
  },
  "language_info": {
   "codemirror_mode": {
    "name": "ipython",
    "version": 3
   },
   "file_extension": ".py",
   "mimetype": "text/x-python",
   "name": "python",
   "nbconvert_exporter": "python",
   "pygments_lexer": "ipython3",
   "version": "3.9.0"
  }
 },
 "nbformat": 4,
 "nbformat_minor": 4
}
